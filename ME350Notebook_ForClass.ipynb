{
 "cells": [
  {
   "cell_type": "markdown",
   "metadata": {},
   "source": [
    "# Modeling vibration in Python\n",
    "## ME 350, Fall 2022\n",
    "\n",
    "INSTRUCTIONS: Complete this notebook by filling in the blanks of the given code.\n",
    "\n",
    "The goal is to plot the motion of a pendulum with known physical quantities. Let's consider the type of pendulum shown below, with a length of string and a large washer at the end.  We can vary the length of the pendulum in our simulation to determine how that will impact the oscillation of the pendulum.  Additionally, we know that the oscillation of this pendulum will not be endless, so we should model some amount of damping to account for the energy drained from the system over time.  We can determine the differential equation of motion for a damped pendulum with no spring, and we will need some Python tools to solve it for an equation of motion. Please note that each 'cell' of this Notebook must be run in order to ensure each of the variables is correctly assigned."
   ]
  },
  {
   "cell_type": "markdown",
   "metadata": {},
   "source": [
    "<img src=\"pendulum.jpg\">"
   ]
  },
  {
   "cell_type": "markdown",
   "metadata": {},
   "source": [
    "<font size=\"1\"> Photo from Exploratorium Teacher Institute (https://creativecommons.org/licenses/by-nc-sa/4.0/). To see simple instructions on how to make this pendulum to see how our simulations match the model above, visit https://www.exploratorium.edu/snacks/pendulum-snake </font>"
   ]
  },
  {
   "cell_type": "code",
   "execution_count": null,
   "metadata": {
    "scrolled": true
   },
   "outputs": [],
   "source": [
    "# The first step for any Python code is to Import Libraries\n",
    "# We will need basic math functions, an integration function, and the ability to plot\n",
    "import numpy as np                 # numpy (think, 'numbers'+'python') is the library for many useful math functions\n",
    "from scipy import integrate        # here, we specifically import a single function, 'integrate'\n",
    "import matplotlib.pyplot as plt    # for plotting. Note, \"as\" creates a shortcut to save typing time\n",
    "\n",
    "# Input constants\n",
    "delta_t = 0.02                     # time step for simulation (s) -- decrease for finer results\n",
    "t_max = 10                           # total time to run simulation (s) -- make this 10 seconds\n",
    "t = np.linspace(0, t_max, int(t_max/delta_t))    # create a timestep vector\n",
    "theta1_0 = np.pi/2                 # initial displacement (radians)\n",
    "theta2_0 = 0                       # initial angular velocity (radians/s)\n",
    "theta_init = (theta1_0, theta2_0)  # combine the initial angular quantities into a single variable array\n"
   ]
  },
  {
   "cell_type": "markdown",
   "metadata": {},
   "source": [
    "We can calculate the differential equation of motion for a damped pendulum:\n",
    "\n",
    "$\\ddot{\\theta}+\\frac{c}{m}\\dot{\\theta}+\\frac{g}{l}\\theta=0 $\n",
    "\n",
    "In order to calculate an equation of motion, we can find the solution to this differential equation. This would require several steps by hand, but with computational power, we can integrate the ordinary differential equation. To accomplish this in Python, we need to define a new function that describes our differential equations (int_pendulum_sim).  Then, we integrate using 'integrate.odeint' over the independent variable, 't' (time)."
   ]
  },
  {
   "cell_type": "code",
   "execution_count": null,
   "metadata": {},
   "outputs": [],
   "source": [
    "def int_pendulum_sim(theta_init, t):\n",
    "    m = 1                        # mass (kg)\n",
    "    L =                         # length (m) -- make this one meter\n",
    "    c = 0.6                      # damping constant (N-s/m)\n",
    "    g =                     # gravitational constant (m/s^2) -- assign the proper acceleration constant\n",
    "    theta_dot_1 = theta_init[1]  # defines displacement as a new variable to treat independently of velocity\n",
    "    theta_dot_2 = -c/m*theta_init[1] - g/L*np.sin(theta_init[0])  # defines our new velocity variable\n",
    "    return theta_dot_1, theta_dot_2   # outputs the new variables for integration\n",
    "                                \n",
    "    # for more information on this process, check out Christian Hubbs article linked below\n",
    "    # https://towardsdatascience.com/a-beginners-guide-to-simulating-dynamical-systems-with-python-a29bc27ad9b1\n",
    "\n",
    "theta_vals_int = integrate.odeint(int_pendulum_sim, theta_init, t)\n"
   ]
  },
  {
   "cell_type": "markdown",
   "metadata": {},
   "source": [
    "We can plot the results.  First, we will plot the angular position (the first column of our results in theta_vals_int)"
   ]
  },
  {
   "cell_type": "code",
   "execution_count": null,
   "metadata": {},
   "outputs": [],
   "source": [
    "plt.rcParams.update({'font.size': 12})         # sets the plot size\n",
    "plt.rcParams['figure.figsize'] = [6, 4]\n",
    "\n",
    "plt.plot(t, position)    # replace 'position' with the first column of theta_vals_int -- note Python indexes from 0, not 1\n",
    "plt.xlim(0,10)\n",
    "\n",
    "plt.xlabel('$t$ [s]')\n",
    "plt.ylabel('Angular position [rad]')\n",
    "plt.show()"
   ]
  },
  {
   "cell_type": "markdown",
   "metadata": {},
   "source": [
    "And then, we will plot velocity (the second column of the results)."
   ]
  },
  {
   "cell_type": "code",
   "execution_count": null,
   "metadata": {},
   "outputs": [],
   "source": [
    "plt.plot(t, velocity)  # replace 'velocity' with the second column, following the indexing rules of Python\n",
    "plt.xlim(0,10)\n",
    "\n",
    "plt.xlabel('$t$ [s]')\n",
    "plt.ylabel('Angular velocity [rad/s]')\n",
    "plt.show()"
   ]
  },
  {
   "cell_type": "markdown",
   "metadata": {},
   "source": [
    "We can also plot both at the same time. This will cause our y-axis label to be off for the angular velocity. Note that you can observe that angular velocity is zero when angular displacement is at a maximum or minimum."
   ]
  },
  {
   "cell_type": "code",
   "execution_count": null,
   "metadata": {},
   "outputs": [],
   "source": [
    "plt.plot(t, position, label='Position')    # insert the same y-axis values as you did in the previous plots\n",
    "plt.plot(t, velocity, label='Velocity')\n",
    "plt.xlim(0,10)\n",
    "\n",
    "plt.xlabel('$t$ [s]')\n",
    "plt.ylabel('Angular position [rad]')\n",
    "plt.legend(loc='upper right')\n",
    "plt.show()"
   ]
  },
  {
   "cell_type": "markdown",
   "metadata": {},
   "source": [
    "TIP: A useful exercise if you want to learn more about Python is to try recreating this entire script for a linear mass spring system."
   ]
  },
  {
   "cell_type": "markdown",
   "metadata": {},
   "source": [
    "Next, let's compare the small angle approximation to our new method of numerical simulation. We will do this by looking at an undamped pendulum, setting a small angle of 10 degrees to start, then vary the angle to see how much our small angle approximation impacts the final equation of motion for our system."
   ]
  },
  {
   "cell_type": "code",
   "execution_count": null,
   "metadata": {},
   "outputs": [],
   "source": [
    "angle =                          # initial displacement (degrees)  -- start with 10 degrees\n",
    "theta1_0 = angle*(np.pi/180)       # initial displacement (converted to radians)\n",
    "theta2_0 = 0                       # initial angular velocity (radians/s)\n",
    "theta_init = (theta1_0, theta2_0)  # combine the initial angular quantities into a single variable array\n",
    "\n",
    "m = 10                       # mass (kg)\n",
    "L = 1                        # length (m)\n",
    "g =                      # gravitational constant (m/s^2)  -- input the appropriate gravitational constant\n",
    "\n",
    "def int_pendulum_sim_undamped(theta_init, t):\n",
    "    theta_dot_1 = theta_init[1]  # defines displacement as a new variable to treat independently of velocity\n",
    "    theta_dot_2 = - g/L*np.sin(theta_init[0])  # defines our new velocity variable\n",
    "    return theta_dot_1, theta_dot_2            # outputs the new variables for integration\n",
    "\n",
    "theta_vals_int = integrate.odeint(int_pendulum_sim_undamped, theta_init, t)\n",
    "undamped_sm_ang = theta1_0*np.cos(np.sqrt(g/L)*t)\n",
    "\n",
    "plt.rcParams.update({'font.size': 18})         # increase the plot size\n",
    "plt.rcParams['figure.figsize'] = [12, 8]\n",
    "\n",
    "plt.plot(t, theta_vals_int[:,0], label='Numerical Simulation')\n",
    "plt.plot(t, undamped_sm_ang, label='Small Angle Approximation')\n",
    "plt.xlim(0,10)\n",
    "\n",
    "plt.xlabel('$t$ [s]')\n",
    "plt.ylabel('Angular position [rad]')\n",
    "plt.legend(loc='lower left')\n",
    "plt.show()"
   ]
  },
  {
   "cell_type": "markdown",
   "metadata": {},
   "source": [
    "When does this simulation begin to deviate substantially based on the small angle approximation? 10 degrees? 15? 30? Consider the advantage gained by not needing to create a numerical simulation when we use the small angle approximation of $\\sin(\\theta) \\approx \\theta$.  For an extra challenge, consider how you might quantify this error.\n",
    "\n",
    "Congratulations on completing your first simulation for ME 350! Please complete Quiz 5 on Blackboard for a brief assessment on the concepts learned through this exercise."
   ]
  }
 ],
 "metadata": {
  "kernelspec": {
   "display_name": "Python 3",
   "language": "python",
   "name": "python3"
  },
  "language_info": {
   "codemirror_mode": {
    "name": "ipython",
    "version": 3
   },
   "file_extension": ".py",
   "mimetype": "text/x-python",
   "name": "python",
   "nbconvert_exporter": "python",
   "pygments_lexer": "ipython3",
   "version": "3.7.7"
  }
 },
 "nbformat": 4,
 "nbformat_minor": 4
}
